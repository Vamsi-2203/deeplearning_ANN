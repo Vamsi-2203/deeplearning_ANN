{
 "cells": [
  {
   "cell_type": "code",
   "execution_count": 4,
   "id": "4e0a1dee",
   "metadata": {
    "ExecuteTime": {
     "end_time": "2021-05-09T06:56:26.324499Z",
     "start_time": "2021-05-09T06:56:26.317518Z"
    }
   },
   "outputs": [],
   "source": [
    "import numpy as np\n",
    "import pandas as pd\n",
    "import matplotlib.pyplot as plt"
   ]
  },
  {
   "cell_type": "code",
   "execution_count": 5,
   "id": "dc2dbf6d",
   "metadata": {
    "ExecuteTime": {
     "end_time": "2021-05-09T06:57:41.891318Z",
     "start_time": "2021-05-09T06:57:41.768131Z"
    }
   },
   "outputs": [
    {
     "data": {
      "text/html": [
       "<div>\n",
       "<style scoped>\n",
       "    .dataframe tbody tr th:only-of-type {\n",
       "        vertical-align: middle;\n",
       "    }\n",
       "\n",
       "    .dataframe tbody tr th {\n",
       "        vertical-align: top;\n",
       "    }\n",
       "\n",
       "    .dataframe thead th {\n",
       "        text-align: right;\n",
       "    }\n",
       "</style>\n",
       "<table border=\"1\" class=\"dataframe\">\n",
       "  <thead>\n",
       "    <tr style=\"text-align: right;\">\n",
       "      <th></th>\n",
       "      <th>RowNumber</th>\n",
       "      <th>CustomerId</th>\n",
       "      <th>Surname</th>\n",
       "      <th>CreditScore</th>\n",
       "      <th>Geography</th>\n",
       "      <th>Gender</th>\n",
       "      <th>Age</th>\n",
       "      <th>Tenure</th>\n",
       "      <th>Balance</th>\n",
       "      <th>NumOfProducts</th>\n",
       "      <th>HasCrCard</th>\n",
       "      <th>IsActiveMember</th>\n",
       "      <th>EstimatedSalary</th>\n",
       "      <th>Exited</th>\n",
       "    </tr>\n",
       "  </thead>\n",
       "  <tbody>\n",
       "    <tr>\n",
       "      <th>0</th>\n",
       "      <td>1</td>\n",
       "      <td>15634602</td>\n",
       "      <td>Hargrave</td>\n",
       "      <td>619</td>\n",
       "      <td>France</td>\n",
       "      <td>Female</td>\n",
       "      <td>42</td>\n",
       "      <td>2</td>\n",
       "      <td>0.00</td>\n",
       "      <td>1</td>\n",
       "      <td>1</td>\n",
       "      <td>1</td>\n",
       "      <td>101348.88</td>\n",
       "      <td>1</td>\n",
       "    </tr>\n",
       "    <tr>\n",
       "      <th>1</th>\n",
       "      <td>2</td>\n",
       "      <td>15647311</td>\n",
       "      <td>Hill</td>\n",
       "      <td>608</td>\n",
       "      <td>Spain</td>\n",
       "      <td>Female</td>\n",
       "      <td>41</td>\n",
       "      <td>1</td>\n",
       "      <td>83807.86</td>\n",
       "      <td>1</td>\n",
       "      <td>0</td>\n",
       "      <td>1</td>\n",
       "      <td>112542.58</td>\n",
       "      <td>0</td>\n",
       "    </tr>\n",
       "    <tr>\n",
       "      <th>2</th>\n",
       "      <td>3</td>\n",
       "      <td>15619304</td>\n",
       "      <td>Onio</td>\n",
       "      <td>502</td>\n",
       "      <td>France</td>\n",
       "      <td>Female</td>\n",
       "      <td>42</td>\n",
       "      <td>8</td>\n",
       "      <td>159660.80</td>\n",
       "      <td>3</td>\n",
       "      <td>1</td>\n",
       "      <td>0</td>\n",
       "      <td>113931.57</td>\n",
       "      <td>1</td>\n",
       "    </tr>\n",
       "    <tr>\n",
       "      <th>3</th>\n",
       "      <td>4</td>\n",
       "      <td>15701354</td>\n",
       "      <td>Boni</td>\n",
       "      <td>699</td>\n",
       "      <td>France</td>\n",
       "      <td>Female</td>\n",
       "      <td>39</td>\n",
       "      <td>1</td>\n",
       "      <td>0.00</td>\n",
       "      <td>2</td>\n",
       "      <td>0</td>\n",
       "      <td>0</td>\n",
       "      <td>93826.63</td>\n",
       "      <td>0</td>\n",
       "    </tr>\n",
       "    <tr>\n",
       "      <th>4</th>\n",
       "      <td>5</td>\n",
       "      <td>15737888</td>\n",
       "      <td>Mitchell</td>\n",
       "      <td>850</td>\n",
       "      <td>Spain</td>\n",
       "      <td>Female</td>\n",
       "      <td>43</td>\n",
       "      <td>2</td>\n",
       "      <td>125510.82</td>\n",
       "      <td>1</td>\n",
       "      <td>1</td>\n",
       "      <td>1</td>\n",
       "      <td>79084.10</td>\n",
       "      <td>0</td>\n",
       "    </tr>\n",
       "    <tr>\n",
       "      <th>...</th>\n",
       "      <td>...</td>\n",
       "      <td>...</td>\n",
       "      <td>...</td>\n",
       "      <td>...</td>\n",
       "      <td>...</td>\n",
       "      <td>...</td>\n",
       "      <td>...</td>\n",
       "      <td>...</td>\n",
       "      <td>...</td>\n",
       "      <td>...</td>\n",
       "      <td>...</td>\n",
       "      <td>...</td>\n",
       "      <td>...</td>\n",
       "      <td>...</td>\n",
       "    </tr>\n",
       "    <tr>\n",
       "      <th>9995</th>\n",
       "      <td>9996</td>\n",
       "      <td>15606229</td>\n",
       "      <td>Obijiaku</td>\n",
       "      <td>771</td>\n",
       "      <td>France</td>\n",
       "      <td>Male</td>\n",
       "      <td>39</td>\n",
       "      <td>5</td>\n",
       "      <td>0.00</td>\n",
       "      <td>2</td>\n",
       "      <td>1</td>\n",
       "      <td>0</td>\n",
       "      <td>96270.64</td>\n",
       "      <td>0</td>\n",
       "    </tr>\n",
       "    <tr>\n",
       "      <th>9996</th>\n",
       "      <td>9997</td>\n",
       "      <td>15569892</td>\n",
       "      <td>Johnstone</td>\n",
       "      <td>516</td>\n",
       "      <td>France</td>\n",
       "      <td>Male</td>\n",
       "      <td>35</td>\n",
       "      <td>10</td>\n",
       "      <td>57369.61</td>\n",
       "      <td>1</td>\n",
       "      <td>1</td>\n",
       "      <td>1</td>\n",
       "      <td>101699.77</td>\n",
       "      <td>0</td>\n",
       "    </tr>\n",
       "    <tr>\n",
       "      <th>9997</th>\n",
       "      <td>9998</td>\n",
       "      <td>15584532</td>\n",
       "      <td>Liu</td>\n",
       "      <td>709</td>\n",
       "      <td>France</td>\n",
       "      <td>Female</td>\n",
       "      <td>36</td>\n",
       "      <td>7</td>\n",
       "      <td>0.00</td>\n",
       "      <td>1</td>\n",
       "      <td>0</td>\n",
       "      <td>1</td>\n",
       "      <td>42085.58</td>\n",
       "      <td>1</td>\n",
       "    </tr>\n",
       "    <tr>\n",
       "      <th>9998</th>\n",
       "      <td>9999</td>\n",
       "      <td>15682355</td>\n",
       "      <td>Sabbatini</td>\n",
       "      <td>772</td>\n",
       "      <td>Germany</td>\n",
       "      <td>Male</td>\n",
       "      <td>42</td>\n",
       "      <td>3</td>\n",
       "      <td>75075.31</td>\n",
       "      <td>2</td>\n",
       "      <td>1</td>\n",
       "      <td>0</td>\n",
       "      <td>92888.52</td>\n",
       "      <td>1</td>\n",
       "    </tr>\n",
       "    <tr>\n",
       "      <th>9999</th>\n",
       "      <td>10000</td>\n",
       "      <td>15628319</td>\n",
       "      <td>Walker</td>\n",
       "      <td>792</td>\n",
       "      <td>France</td>\n",
       "      <td>Female</td>\n",
       "      <td>28</td>\n",
       "      <td>4</td>\n",
       "      <td>130142.79</td>\n",
       "      <td>1</td>\n",
       "      <td>1</td>\n",
       "      <td>0</td>\n",
       "      <td>38190.78</td>\n",
       "      <td>0</td>\n",
       "    </tr>\n",
       "  </tbody>\n",
       "</table>\n",
       "<p>10000 rows × 14 columns</p>\n",
       "</div>"
      ],
      "text/plain": [
       "      RowNumber  CustomerId    Surname  CreditScore Geography  Gender  Age  \\\n",
       "0             1    15634602   Hargrave          619    France  Female   42   \n",
       "1             2    15647311       Hill          608     Spain  Female   41   \n",
       "2             3    15619304       Onio          502    France  Female   42   \n",
       "3             4    15701354       Boni          699    France  Female   39   \n",
       "4             5    15737888   Mitchell          850     Spain  Female   43   \n",
       "...         ...         ...        ...          ...       ...     ...  ...   \n",
       "9995       9996    15606229   Obijiaku          771    France    Male   39   \n",
       "9996       9997    15569892  Johnstone          516    France    Male   35   \n",
       "9997       9998    15584532        Liu          709    France  Female   36   \n",
       "9998       9999    15682355  Sabbatini          772   Germany    Male   42   \n",
       "9999      10000    15628319     Walker          792    France  Female   28   \n",
       "\n",
       "      Tenure    Balance  NumOfProducts  HasCrCard  IsActiveMember  \\\n",
       "0          2       0.00              1          1               1   \n",
       "1          1   83807.86              1          0               1   \n",
       "2          8  159660.80              3          1               0   \n",
       "3          1       0.00              2          0               0   \n",
       "4          2  125510.82              1          1               1   \n",
       "...      ...        ...            ...        ...             ...   \n",
       "9995       5       0.00              2          1               0   \n",
       "9996      10   57369.61              1          1               1   \n",
       "9997       7       0.00              1          0               1   \n",
       "9998       3   75075.31              2          1               0   \n",
       "9999       4  130142.79              1          1               0   \n",
       "\n",
       "      EstimatedSalary  Exited  \n",
       "0           101348.88       1  \n",
       "1           112542.58       0  \n",
       "2           113931.57       1  \n",
       "3            93826.63       0  \n",
       "4            79084.10       0  \n",
       "...               ...     ...  \n",
       "9995         96270.64       0  \n",
       "9996        101699.77       0  \n",
       "9997         42085.58       1  \n",
       "9998         92888.52       1  \n",
       "9999         38190.78       0  \n",
       "\n",
       "[10000 rows x 14 columns]"
      ]
     },
     "execution_count": 5,
     "metadata": {},
     "output_type": "execute_result"
    }
   ],
   "source": [
    "dataset = pd.read_csv(\"D:\\projects\\Churn_Modelling.csv\")\n",
    "dataset"
   ]
  },
  {
   "cell_type": "code",
   "execution_count": 11,
   "id": "83e7206d",
   "metadata": {
    "ExecuteTime": {
     "end_time": "2021-05-09T07:00:04.411365Z",
     "start_time": "2021-05-09T07:00:04.405379Z"
    }
   },
   "outputs": [],
   "source": [
    "x = dataset.iloc[:, 3:13]\n",
    "y = dataset.iloc[:, 13]\n"
   ]
  },
  {
   "cell_type": "code",
   "execution_count": 15,
   "id": "daee27d6",
   "metadata": {
    "ExecuteTime": {
     "end_time": "2021-05-09T07:02:30.717285Z",
     "start_time": "2021-05-09T07:02:30.705317Z"
    }
   },
   "outputs": [],
   "source": [
    "geography =pd.get_dummies(x[\"Geography\"], drop_first=True)\n",
    "gender=pd.get_dummies(x[\"Gender\"], drop_first=True)"
   ]
  },
  {
   "cell_type": "code",
   "execution_count": 16,
   "id": "41f24c95",
   "metadata": {
    "ExecuteTime": {
     "end_time": "2021-05-09T07:03:18.558090Z",
     "start_time": "2021-05-09T07:03:18.503234Z"
    }
   },
   "outputs": [
    {
     "data": {
      "text/html": [
       "<div>\n",
       "<style scoped>\n",
       "    .dataframe tbody tr th:only-of-type {\n",
       "        vertical-align: middle;\n",
       "    }\n",
       "\n",
       "    .dataframe tbody tr th {\n",
       "        vertical-align: top;\n",
       "    }\n",
       "\n",
       "    .dataframe thead th {\n",
       "        text-align: right;\n",
       "    }\n",
       "</style>\n",
       "<table border=\"1\" class=\"dataframe\">\n",
       "  <thead>\n",
       "    <tr style=\"text-align: right;\">\n",
       "      <th></th>\n",
       "      <th>CreditScore</th>\n",
       "      <th>Geography</th>\n",
       "      <th>Gender</th>\n",
       "      <th>Age</th>\n",
       "      <th>Tenure</th>\n",
       "      <th>Balance</th>\n",
       "      <th>NumOfProducts</th>\n",
       "      <th>HasCrCard</th>\n",
       "      <th>IsActiveMember</th>\n",
       "      <th>EstimatedSalary</th>\n",
       "      <th>Germany</th>\n",
       "      <th>Spain</th>\n",
       "      <th>Male</th>\n",
       "    </tr>\n",
       "  </thead>\n",
       "  <tbody>\n",
       "    <tr>\n",
       "      <th>0</th>\n",
       "      <td>619</td>\n",
       "      <td>France</td>\n",
       "      <td>Female</td>\n",
       "      <td>42</td>\n",
       "      <td>2</td>\n",
       "      <td>0.00</td>\n",
       "      <td>1</td>\n",
       "      <td>1</td>\n",
       "      <td>1</td>\n",
       "      <td>101348.88</td>\n",
       "      <td>0</td>\n",
       "      <td>0</td>\n",
       "      <td>0</td>\n",
       "    </tr>\n",
       "    <tr>\n",
       "      <th>1</th>\n",
       "      <td>608</td>\n",
       "      <td>Spain</td>\n",
       "      <td>Female</td>\n",
       "      <td>41</td>\n",
       "      <td>1</td>\n",
       "      <td>83807.86</td>\n",
       "      <td>1</td>\n",
       "      <td>0</td>\n",
       "      <td>1</td>\n",
       "      <td>112542.58</td>\n",
       "      <td>0</td>\n",
       "      <td>1</td>\n",
       "      <td>0</td>\n",
       "    </tr>\n",
       "    <tr>\n",
       "      <th>2</th>\n",
       "      <td>502</td>\n",
       "      <td>France</td>\n",
       "      <td>Female</td>\n",
       "      <td>42</td>\n",
       "      <td>8</td>\n",
       "      <td>159660.80</td>\n",
       "      <td>3</td>\n",
       "      <td>1</td>\n",
       "      <td>0</td>\n",
       "      <td>113931.57</td>\n",
       "      <td>0</td>\n",
       "      <td>0</td>\n",
       "      <td>0</td>\n",
       "    </tr>\n",
       "    <tr>\n",
       "      <th>3</th>\n",
       "      <td>699</td>\n",
       "      <td>France</td>\n",
       "      <td>Female</td>\n",
       "      <td>39</td>\n",
       "      <td>1</td>\n",
       "      <td>0.00</td>\n",
       "      <td>2</td>\n",
       "      <td>0</td>\n",
       "      <td>0</td>\n",
       "      <td>93826.63</td>\n",
       "      <td>0</td>\n",
       "      <td>0</td>\n",
       "      <td>0</td>\n",
       "    </tr>\n",
       "    <tr>\n",
       "      <th>4</th>\n",
       "      <td>850</td>\n",
       "      <td>Spain</td>\n",
       "      <td>Female</td>\n",
       "      <td>43</td>\n",
       "      <td>2</td>\n",
       "      <td>125510.82</td>\n",
       "      <td>1</td>\n",
       "      <td>1</td>\n",
       "      <td>1</td>\n",
       "      <td>79084.10</td>\n",
       "      <td>0</td>\n",
       "      <td>1</td>\n",
       "      <td>0</td>\n",
       "    </tr>\n",
       "    <tr>\n",
       "      <th>...</th>\n",
       "      <td>...</td>\n",
       "      <td>...</td>\n",
       "      <td>...</td>\n",
       "      <td>...</td>\n",
       "      <td>...</td>\n",
       "      <td>...</td>\n",
       "      <td>...</td>\n",
       "      <td>...</td>\n",
       "      <td>...</td>\n",
       "      <td>...</td>\n",
       "      <td>...</td>\n",
       "      <td>...</td>\n",
       "      <td>...</td>\n",
       "    </tr>\n",
       "    <tr>\n",
       "      <th>9995</th>\n",
       "      <td>771</td>\n",
       "      <td>France</td>\n",
       "      <td>Male</td>\n",
       "      <td>39</td>\n",
       "      <td>5</td>\n",
       "      <td>0.00</td>\n",
       "      <td>2</td>\n",
       "      <td>1</td>\n",
       "      <td>0</td>\n",
       "      <td>96270.64</td>\n",
       "      <td>0</td>\n",
       "      <td>0</td>\n",
       "      <td>1</td>\n",
       "    </tr>\n",
       "    <tr>\n",
       "      <th>9996</th>\n",
       "      <td>516</td>\n",
       "      <td>France</td>\n",
       "      <td>Male</td>\n",
       "      <td>35</td>\n",
       "      <td>10</td>\n",
       "      <td>57369.61</td>\n",
       "      <td>1</td>\n",
       "      <td>1</td>\n",
       "      <td>1</td>\n",
       "      <td>101699.77</td>\n",
       "      <td>0</td>\n",
       "      <td>0</td>\n",
       "      <td>1</td>\n",
       "    </tr>\n",
       "    <tr>\n",
       "      <th>9997</th>\n",
       "      <td>709</td>\n",
       "      <td>France</td>\n",
       "      <td>Female</td>\n",
       "      <td>36</td>\n",
       "      <td>7</td>\n",
       "      <td>0.00</td>\n",
       "      <td>1</td>\n",
       "      <td>0</td>\n",
       "      <td>1</td>\n",
       "      <td>42085.58</td>\n",
       "      <td>0</td>\n",
       "      <td>0</td>\n",
       "      <td>0</td>\n",
       "    </tr>\n",
       "    <tr>\n",
       "      <th>9998</th>\n",
       "      <td>772</td>\n",
       "      <td>Germany</td>\n",
       "      <td>Male</td>\n",
       "      <td>42</td>\n",
       "      <td>3</td>\n",
       "      <td>75075.31</td>\n",
       "      <td>2</td>\n",
       "      <td>1</td>\n",
       "      <td>0</td>\n",
       "      <td>92888.52</td>\n",
       "      <td>1</td>\n",
       "      <td>0</td>\n",
       "      <td>1</td>\n",
       "    </tr>\n",
       "    <tr>\n",
       "      <th>9999</th>\n",
       "      <td>792</td>\n",
       "      <td>France</td>\n",
       "      <td>Female</td>\n",
       "      <td>28</td>\n",
       "      <td>4</td>\n",
       "      <td>130142.79</td>\n",
       "      <td>1</td>\n",
       "      <td>1</td>\n",
       "      <td>0</td>\n",
       "      <td>38190.78</td>\n",
       "      <td>0</td>\n",
       "      <td>0</td>\n",
       "      <td>0</td>\n",
       "    </tr>\n",
       "  </tbody>\n",
       "</table>\n",
       "<p>10000 rows × 13 columns</p>\n",
       "</div>"
      ],
      "text/plain": [
       "      CreditScore Geography  Gender  Age  Tenure    Balance  NumOfProducts  \\\n",
       "0             619    France  Female   42       2       0.00              1   \n",
       "1             608     Spain  Female   41       1   83807.86              1   \n",
       "2             502    France  Female   42       8  159660.80              3   \n",
       "3             699    France  Female   39       1       0.00              2   \n",
       "4             850     Spain  Female   43       2  125510.82              1   \n",
       "...           ...       ...     ...  ...     ...        ...            ...   \n",
       "9995          771    France    Male   39       5       0.00              2   \n",
       "9996          516    France    Male   35      10   57369.61              1   \n",
       "9997          709    France  Female   36       7       0.00              1   \n",
       "9998          772   Germany    Male   42       3   75075.31              2   \n",
       "9999          792    France  Female   28       4  130142.79              1   \n",
       "\n",
       "      HasCrCard  IsActiveMember  EstimatedSalary  Germany  Spain  Male  \n",
       "0             1               1        101348.88        0      0     0  \n",
       "1             0               1        112542.58        0      1     0  \n",
       "2             1               0        113931.57        0      0     0  \n",
       "3             0               0         93826.63        0      0     0  \n",
       "4             1               1         79084.10        0      1     0  \n",
       "...         ...             ...              ...      ...    ...   ...  \n",
       "9995          1               0         96270.64        0      0     1  \n",
       "9996          1               1        101699.77        0      0     1  \n",
       "9997          0               1         42085.58        0      0     0  \n",
       "9998          1               0         92888.52        1      0     1  \n",
       "9999          1               0         38190.78        0      0     0  \n",
       "\n",
       "[10000 rows x 13 columns]"
      ]
     },
     "execution_count": 16,
     "metadata": {},
     "output_type": "execute_result"
    }
   ],
   "source": [
    "pd.concat([x,geography,gender],axis=1)"
   ]
  },
  {
   "cell_type": "code",
   "execution_count": 17,
   "id": "943ec8f7",
   "metadata": {
    "ExecuteTime": {
     "end_time": "2021-05-09T07:04:09.184534Z",
     "start_time": "2021-05-09T07:04:09.176553Z"
    }
   },
   "outputs": [],
   "source": [
    "x =x.drop([\"Geography\", \"Gender\"],axis=1)"
   ]
  },
  {
   "cell_type": "code",
   "execution_count": 28,
   "id": "519e305e",
   "metadata": {
    "ExecuteTime": {
     "end_time": "2021-05-09T08:32:20.920724Z",
     "start_time": "2021-05-09T08:32:20.906505Z"
    }
   },
   "outputs": [
    {
     "data": {
      "text/plain": [
       "(10000, 8)"
      ]
     },
     "execution_count": 28,
     "metadata": {},
     "output_type": "execute_result"
    }
   ],
   "source": [
    "x.shape"
   ]
  },
  {
   "cell_type": "code",
   "execution_count": 47,
   "id": "92c738b8",
   "metadata": {
    "ExecuteTime": {
     "end_time": "2021-05-09T08:44:55.647614Z",
     "start_time": "2021-05-09T08:44:55.635019Z"
    }
   },
   "outputs": [],
   "source": [
    "from sklearn.model_selection import train_test_split\n",
    "x_train,x_test,y_train,y_test = train_test_split(x,y, test_size=0.2, random_state=0)"
   ]
  },
  {
   "cell_type": "code",
   "execution_count": 48,
   "id": "0de4f235",
   "metadata": {
    "ExecuteTime": {
     "end_time": "2021-05-09T08:44:56.103444Z",
     "start_time": "2021-05-09T08:44:56.074720Z"
    }
   },
   "outputs": [],
   "source": [
    "#freture scaling\n",
    "from sklearn.preprocessing import StandardScaler\n",
    "sc = StandardScaler()\n",
    "x_train=sc.fit_transform(x_train)\n",
    "x_test=sc.transform(x_test)"
   ]
  },
  {
   "cell_type": "code",
   "execution_count": 49,
   "id": "68794c86",
   "metadata": {
    "ExecuteTime": {
     "end_time": "2021-05-09T08:44:56.520305Z",
     "start_time": "2021-05-09T08:44:56.505225Z"
    }
   },
   "outputs": [],
   "source": [
    "# lets make ann model\n",
    "import keras\n",
    "from keras.models import Sequential\n",
    "from keras.layers import Dense\n",
    "from keras.layers import Dropout"
   ]
  },
  {
   "cell_type": "code",
   "execution_count": 50,
   "id": "82fe00dc",
   "metadata": {
    "ExecuteTime": {
     "end_time": "2021-05-09T08:44:56.978060Z",
     "start_time": "2021-05-09T08:44:56.969104Z"
    }
   },
   "outputs": [],
   "source": [
    "#initialising the ann\n",
    "classifier = Sequential()\n"
   ]
  },
  {
   "cell_type": "code",
   "execution_count": 51,
   "id": "607966a0",
   "metadata": {
    "ExecuteTime": {
     "end_time": "2021-05-09T08:44:57.552917Z",
     "start_time": "2021-05-09T08:44:57.404481Z"
    }
   },
   "outputs": [],
   "source": [
    "# adding frist layer and hidden layer\n",
    "classifier.add(Dense(units=6,kernel_initializer='he_uniform',activation='relu',input_dim=8))\n",
    "# adding second layer\n",
    "classifier.add(Dense(units=6,kernel_initializer='he_uniform',activation='relu'))"
   ]
  },
  {
   "cell_type": "code",
   "execution_count": 52,
   "id": "9602ba7d",
   "metadata": {
    "ExecuteTime": {
     "end_time": "2021-05-09T08:44:58.049413Z",
     "start_time": "2021-05-09T08:44:57.977066Z"
    }
   },
   "outputs": [],
   "source": [
    "# outout layer\n",
    "classifier.add(Dense(units=1,kernel_initializer='glorot_uniform',activation='sigmoid'))"
   ]
  },
  {
   "cell_type": "code",
   "execution_count": 57,
   "id": "12ef4f7e",
   "metadata": {
    "ExecuteTime": {
     "end_time": "2021-05-09T08:46:11.926598Z",
     "start_time": "2021-05-09T08:46:11.715466Z"
    }
   },
   "outputs": [],
   "source": [
    "#compling the ann\n",
    "classifier.compile(optimizer='adam',loss='binary_crossentropy',metrics=['accuracy'])"
   ]
  },
  {
   "cell_type": "code",
   "execution_count": 58,
   "id": "878fba0d",
   "metadata": {
    "ExecuteTime": {
     "end_time": "2021-05-09T08:49:36.243642Z",
     "start_time": "2021-05-09T08:46:12.155190Z"
    }
   },
   "outputs": [
    {
     "name": "stderr",
     "output_type": "stream",
     "text": [
      "C:\\Users\\Dell\\anaconda3\\envs\\datascience\\lib\\site-packages\\ipykernel_launcher.py:2: UserWarning: The `nb_epoch` argument in `fit` has been renamed `epochs`.\n",
      "  \n"
     ]
    },
    {
     "name": "stdout",
     "output_type": "stream",
     "text": [
      "Train on 5359 samples, validate on 2641 samples\n",
      "Epoch 1/100\n",
      "5359/5359 [==============================] - 3s 529us/step - loss: 0.7808 - accuracy: 0.6358 - val_loss: 0.5186 - val_accuracy: 0.7921\n",
      "Epoch 2/100\n",
      "5359/5359 [==============================] - 2s 374us/step - loss: 0.4818 - accuracy: 0.8013 - val_loss: 0.4699 - val_accuracy: 0.8016\n",
      "Epoch 3/100\n",
      "5359/5359 [==============================] - 2s 392us/step - loss: 0.4449 - accuracy: 0.8093 - val_loss: 0.4469 - val_accuracy: 0.8031\n",
      "Epoch 4/100\n",
      "5359/5359 [==============================] - 2s 391us/step - loss: 0.4215 - accuracy: 0.8158 - val_loss: 0.4314 - val_accuracy: 0.8061\n",
      "Epoch 5/100\n",
      "5359/5359 [==============================] - 2s 388us/step - loss: 0.4036 - accuracy: 0.8238 - val_loss: 0.4195 - val_accuracy: 0.8126\n",
      "Epoch 6/100\n",
      "5359/5359 [==============================] - 2s 389us/step - loss: 0.3919 - accuracy: 0.8293 - val_loss: 0.4107 - val_accuracy: 0.8194\n",
      "Epoch 7/100\n",
      "5359/5359 [==============================] - 2s 398us/step - loss: 0.3837 - accuracy: 0.8360 - val_loss: 0.4043 - val_accuracy: 0.8239\n",
      "Epoch 8/100\n",
      "5359/5359 [==============================] - 2s 390us/step - loss: 0.3784 - accuracy: 0.8360 - val_loss: 0.4014 - val_accuracy: 0.8277\n",
      "Epoch 9/100\n",
      "5359/5359 [==============================] - 2s 379us/step - loss: 0.3743 - accuracy: 0.8399 - val_loss: 0.3991 - val_accuracy: 0.8277\n",
      "Epoch 10/100\n",
      "5359/5359 [==============================] - 2s 379us/step - loss: 0.3711 - accuracy: 0.8403 - val_loss: 0.3986 - val_accuracy: 0.8289\n",
      "Epoch 11/100\n",
      "5359/5359 [==============================] - 2s 372us/step - loss: 0.3693 - accuracy: 0.8405 - val_loss: 0.3939 - val_accuracy: 0.8319\n",
      "Epoch 12/100\n",
      "5359/5359 [==============================] - 2s 377us/step - loss: 0.3679 - accuracy: 0.8425 - val_loss: 0.3932 - val_accuracy: 0.8342\n",
      "Epoch 13/100\n",
      "5359/5359 [==============================] - 2s 382us/step - loss: 0.3664 - accuracy: 0.8405 - val_loss: 0.3925 - val_accuracy: 0.8326\n",
      "Epoch 14/100\n",
      "5359/5359 [==============================] - 2s 380us/step - loss: 0.3659 - accuracy: 0.8427 - val_loss: 0.3918 - val_accuracy: 0.8334\n",
      "Epoch 15/100\n",
      "5359/5359 [==============================] - 2s 386us/step - loss: 0.3651 - accuracy: 0.8442 - val_loss: 0.3903 - val_accuracy: 0.8364\n",
      "Epoch 16/100\n",
      "5359/5359 [==============================] - 2s 385us/step - loss: 0.3642 - accuracy: 0.8429 - val_loss: 0.3910 - val_accuracy: 0.8395\n",
      "Epoch 17/100\n",
      "5359/5359 [==============================] - 2s 383us/step - loss: 0.3635 - accuracy: 0.8451 - val_loss: 0.3906 - val_accuracy: 0.8383\n",
      "Epoch 18/100\n",
      "5359/5359 [==============================] - 2s 372us/step - loss: 0.3627 - accuracy: 0.8472 - val_loss: 0.3888 - val_accuracy: 0.8402\n",
      "Epoch 19/100\n",
      "5359/5359 [==============================] - 2s 372us/step - loss: 0.3621 - accuracy: 0.8481 - val_loss: 0.3896 - val_accuracy: 0.8410\n",
      "Epoch 20/100\n",
      "5359/5359 [==============================] - 2s 373us/step - loss: 0.3609 - accuracy: 0.8494 - val_loss: 0.3888 - val_accuracy: 0.8368\n",
      "Epoch 21/100\n",
      "5359/5359 [==============================] - 2s 407us/step - loss: 0.3600 - accuracy: 0.8533 - val_loss: 0.3878 - val_accuracy: 0.8406\n",
      "Epoch 22/100\n",
      "5359/5359 [==============================] - 2s 393us/step - loss: 0.3593 - accuracy: 0.8515 - val_loss: 0.3868 - val_accuracy: 0.8387\n",
      "Epoch 23/100\n",
      "5359/5359 [==============================] - 2s 377us/step - loss: 0.3590 - accuracy: 0.8517 - val_loss: 0.3854 - val_accuracy: 0.8413\n",
      "Epoch 24/100\n",
      "5359/5359 [==============================] - 2s 373us/step - loss: 0.3575 - accuracy: 0.8520 - val_loss: 0.3853 - val_accuracy: 0.8402\n",
      "Epoch 25/100\n",
      "5359/5359 [==============================] - 2s 383us/step - loss: 0.3571 - accuracy: 0.8535 - val_loss: 0.3858 - val_accuracy: 0.8444\n",
      "Epoch 26/100\n",
      "5359/5359 [==============================] - 2s 367us/step - loss: 0.3564 - accuracy: 0.8554 - val_loss: 0.3841 - val_accuracy: 0.8440\n",
      "Epoch 27/100\n",
      "5359/5359 [==============================] - 2s 377us/step - loss: 0.3562 - accuracy: 0.8520 - val_loss: 0.3833 - val_accuracy: 0.8444\n",
      "Epoch 28/100\n",
      "5359/5359 [==============================] - 2s 415us/step - loss: 0.3551 - accuracy: 0.8541 - val_loss: 0.3829 - val_accuracy: 0.8410\n",
      "Epoch 29/100\n",
      "5359/5359 [==============================] - 2s 387us/step - loss: 0.3547 - accuracy: 0.8543 - val_loss: 0.3825 - val_accuracy: 0.8466\n",
      "Epoch 30/100\n",
      "5359/5359 [==============================] - 2s 373us/step - loss: 0.3542 - accuracy: 0.8545 - val_loss: 0.3823 - val_accuracy: 0.8474\n",
      "Epoch 31/100\n",
      "5359/5359 [==============================] - 2s 372us/step - loss: 0.3543 - accuracy: 0.8545 - val_loss: 0.3826 - val_accuracy: 0.8451\n",
      "Epoch 32/100\n",
      "5359/5359 [==============================] - 2s 374us/step - loss: 0.3534 - accuracy: 0.8548 - val_loss: 0.3815 - val_accuracy: 0.8478\n",
      "Epoch 33/100\n",
      "5359/5359 [==============================] - 2s 406us/step - loss: 0.3528 - accuracy: 0.8541 - val_loss: 0.3824 - val_accuracy: 0.8451\n",
      "Epoch 34/100\n",
      "5359/5359 [==============================] - 2s 368us/step - loss: 0.3524 - accuracy: 0.8543 - val_loss: 0.3835 - val_accuracy: 0.8459\n",
      "Epoch 35/100\n",
      "5359/5359 [==============================] - 2s 372us/step - loss: 0.3532 - accuracy: 0.8552 - val_loss: 0.3808 - val_accuracy: 0.8459\n",
      "Epoch 36/100\n",
      "5359/5359 [==============================] - 2s 383us/step - loss: 0.3527 - accuracy: 0.8539 - val_loss: 0.3817 - val_accuracy: 0.8455\n",
      "Epoch 37/100\n",
      "5359/5359 [==============================] - 2s 450us/step - loss: 0.3529 - accuracy: 0.8541 - val_loss: 0.3812 - val_accuracy: 0.8451\n",
      "Epoch 38/100\n",
      "5359/5359 [==============================] - 2s 387us/step - loss: 0.3526 - accuracy: 0.8533 - val_loss: 0.3807 - val_accuracy: 0.8455\n",
      "Epoch 39/100\n",
      "5359/5359 [==============================] - 2s 372us/step - loss: 0.3520 - accuracy: 0.8561 - val_loss: 0.3818 - val_accuracy: 0.8429\n",
      "Epoch 40/100\n",
      "5359/5359 [==============================] - 2s 361us/step - loss: 0.3518 - accuracy: 0.8556 - val_loss: 0.3820 - val_accuracy: 0.8444\n",
      "Epoch 41/100\n",
      "5359/5359 [==============================] - 2s 372us/step - loss: 0.3521 - accuracy: 0.8543 - val_loss: 0.3802 - val_accuracy: 0.8466\n",
      "Epoch 42/100\n",
      "5359/5359 [==============================] - 2s 362us/step - loss: 0.3518 - accuracy: 0.8552 - val_loss: 0.3823 - val_accuracy: 0.8455\n",
      "Epoch 43/100\n",
      "5359/5359 [==============================] - 2s 367us/step - loss: 0.3515 - accuracy: 0.8584 - val_loss: 0.3807 - val_accuracy: 0.8459\n",
      "Epoch 44/100\n",
      "5359/5359 [==============================] - 2s 371us/step - loss: 0.3510 - accuracy: 0.8545 - val_loss: 0.3799 - val_accuracy: 0.8440\n",
      "Epoch 45/100\n",
      "5359/5359 [==============================] - 2s 373us/step - loss: 0.3511 - accuracy: 0.8556 - val_loss: 0.3816 - val_accuracy: 0.8432\n",
      "Epoch 46/100\n",
      "5359/5359 [==============================] - 2s 375us/step - loss: 0.3511 - accuracy: 0.8563 - val_loss: 0.3798 - val_accuracy: 0.8451\n",
      "Epoch 47/100\n",
      "5359/5359 [==============================] - 2s 364us/step - loss: 0.3508 - accuracy: 0.8558 - val_loss: 0.3802 - val_accuracy: 0.8459\n",
      "Epoch 48/100\n",
      "5359/5359 [==============================] - 2s 367us/step - loss: 0.3511 - accuracy: 0.8554 - val_loss: 0.3787 - val_accuracy: 0.8478\n",
      "Epoch 49/100\n",
      "5359/5359 [==============================] - 2s 354us/step - loss: 0.3509 - accuracy: 0.8561 - val_loss: 0.3789 - val_accuracy: 0.8474\n",
      "Epoch 50/100\n",
      "5359/5359 [==============================] - 2s 375us/step - loss: 0.3508 - accuracy: 0.8561 - val_loss: 0.3792 - val_accuracy: 0.8459\n",
      "Epoch 51/100\n",
      "5359/5359 [==============================] - 2s 359us/step - loss: 0.3507 - accuracy: 0.8563 - val_loss: 0.3781 - val_accuracy: 0.8474\n",
      "Epoch 52/100\n",
      "5359/5359 [==============================] - 2s 376us/step - loss: 0.3501 - accuracy: 0.8565 - val_loss: 0.3792 - val_accuracy: 0.8466\n",
      "Epoch 53/100\n",
      "5359/5359 [==============================] - 2s 358us/step - loss: 0.3502 - accuracy: 0.8561 - val_loss: 0.3821 - val_accuracy: 0.8440\n",
      "Epoch 54/100\n",
      "5359/5359 [==============================] - 2s 373us/step - loss: 0.3507 - accuracy: 0.8567 - val_loss: 0.3806 - val_accuracy: 0.8448\n",
      "Epoch 55/100\n",
      "5359/5359 [==============================] - 2s 369us/step - loss: 0.3501 - accuracy: 0.8563 - val_loss: 0.3827 - val_accuracy: 0.8436\n",
      "Epoch 56/100\n"
     ]
    },
    {
     "name": "stdout",
     "output_type": "stream",
     "text": [
      "5359/5359 [==============================] - 2s 372us/step - loss: 0.3495 - accuracy: 0.8565 - val_loss: 0.3796 - val_accuracy: 0.8478\n",
      "Epoch 57/100\n",
      "5359/5359 [==============================] - 2s 367us/step - loss: 0.3499 - accuracy: 0.8569 - val_loss: 0.3799 - val_accuracy: 0.8459\n",
      "Epoch 58/100\n",
      "5359/5359 [==============================] - 2s 376us/step - loss: 0.3499 - accuracy: 0.8572 - val_loss: 0.3792 - val_accuracy: 0.8474\n",
      "Epoch 59/100\n",
      "5359/5359 [==============================] - 2s 370us/step - loss: 0.3501 - accuracy: 0.8567 - val_loss: 0.3796 - val_accuracy: 0.8474\n",
      "Epoch 60/100\n",
      "5359/5359 [==============================] - 2s 368us/step - loss: 0.3499 - accuracy: 0.8576 - val_loss: 0.3809 - val_accuracy: 0.8444\n",
      "Epoch 61/100\n",
      "5359/5359 [==============================] - 2s 361us/step - loss: 0.3499 - accuracy: 0.8572 - val_loss: 0.3788 - val_accuracy: 0.8466\n",
      "Epoch 62/100\n",
      "5359/5359 [==============================] - 2s 364us/step - loss: 0.3502 - accuracy: 0.8559 - val_loss: 0.3792 - val_accuracy: 0.8470\n",
      "Epoch 63/100\n",
      "5359/5359 [==============================] - 2s 371us/step - loss: 0.3500 - accuracy: 0.8556 - val_loss: 0.3779 - val_accuracy: 0.8463\n",
      "Epoch 64/100\n",
      "5359/5359 [==============================] - 2s 364us/step - loss: 0.3496 - accuracy: 0.8587 - val_loss: 0.3796 - val_accuracy: 0.8474\n",
      "Epoch 65/100\n",
      "5359/5359 [==============================] - 2s 369us/step - loss: 0.3496 - accuracy: 0.8554 - val_loss: 0.3770 - val_accuracy: 0.8482\n",
      "Epoch 66/100\n",
      "5359/5359 [==============================] - 2s 368us/step - loss: 0.3495 - accuracy: 0.8580 - val_loss: 0.3787 - val_accuracy: 0.8497\n",
      "Epoch 67/100\n",
      "5359/5359 [==============================] - 2s 423us/step - loss: 0.3497 - accuracy: 0.8576 - val_loss: 0.3783 - val_accuracy: 0.8485\n",
      "Epoch 68/100\n",
      "5359/5359 [==============================] - 2s 366us/step - loss: 0.3492 - accuracy: 0.8572 - val_loss: 0.3797 - val_accuracy: 0.8432\n",
      "Epoch 69/100\n",
      "5359/5359 [==============================] - 2s 362us/step - loss: 0.3497 - accuracy: 0.8563 - val_loss: 0.3797 - val_accuracy: 0.8459\n",
      "Epoch 70/100\n",
      "5359/5359 [==============================] - 2s 366us/step - loss: 0.3492 - accuracy: 0.8571 - val_loss: 0.3786 - val_accuracy: 0.8463\n",
      "Epoch 71/100\n",
      "5359/5359 [==============================] - 2s 372us/step - loss: 0.3497 - accuracy: 0.8569 - val_loss: 0.3785 - val_accuracy: 0.8455\n",
      "Epoch 72/100\n",
      "5359/5359 [==============================] - 2s 362us/step - loss: 0.3492 - accuracy: 0.8563 - val_loss: 0.3783 - val_accuracy: 0.8459\n",
      "Epoch 73/100\n",
      "5359/5359 [==============================] - 2s 367us/step - loss: 0.3499 - accuracy: 0.8580 - val_loss: 0.3807 - val_accuracy: 0.8451\n",
      "Epoch 74/100\n",
      "5359/5359 [==============================] - 2s 369us/step - loss: 0.3491 - accuracy: 0.8565 - val_loss: 0.3803 - val_accuracy: 0.8448\n",
      "Epoch 75/100\n",
      "5359/5359 [==============================] - 2s 367us/step - loss: 0.3493 - accuracy: 0.8571 - val_loss: 0.3805 - val_accuracy: 0.8448\n",
      "Epoch 76/100\n",
      "5359/5359 [==============================] - 2s 360us/step - loss: 0.3494 - accuracy: 0.8574 - val_loss: 0.3786 - val_accuracy: 0.8463\n",
      "Epoch 77/100\n",
      "5359/5359 [==============================] - 2s 361us/step - loss: 0.3492 - accuracy: 0.8567 - val_loss: 0.3803 - val_accuracy: 0.8451\n",
      "Epoch 78/100\n",
      "5359/5359 [==============================] - 2s 361us/step - loss: 0.3492 - accuracy: 0.8569 - val_loss: 0.3778 - val_accuracy: 0.8455\n",
      "Epoch 79/100\n",
      "5359/5359 [==============================] - 2s 378us/step - loss: 0.3487 - accuracy: 0.8565 - val_loss: 0.3790 - val_accuracy: 0.8474\n",
      "Epoch 80/100\n",
      "5359/5359 [==============================] - 2s 369us/step - loss: 0.3492 - accuracy: 0.8586 - val_loss: 0.3775 - val_accuracy: 0.8485\n",
      "Epoch 81/100\n",
      "5359/5359 [==============================] - 2s 360us/step - loss: 0.3484 - accuracy: 0.8571 - val_loss: 0.3798 - val_accuracy: 0.8448\n",
      "Epoch 82/100\n",
      "5359/5359 [==============================] - 2s 372us/step - loss: 0.3490 - accuracy: 0.8571 - val_loss: 0.3778 - val_accuracy: 0.8482\n",
      "Epoch 83/100\n",
      "5359/5359 [==============================] - 2s 379us/step - loss: 0.3490 - accuracy: 0.8556 - val_loss: 0.3787 - val_accuracy: 0.8448\n",
      "Epoch 84/100\n",
      "5359/5359 [==============================] - 2s 375us/step - loss: 0.3484 - accuracy: 0.8572 - val_loss: 0.3790 - val_accuracy: 0.8474\n",
      "Epoch 85/100\n",
      "5359/5359 [==============================] - 2s 363us/step - loss: 0.3487 - accuracy: 0.8574 - val_loss: 0.3774 - val_accuracy: 0.8485\n",
      "Epoch 86/100\n",
      "5359/5359 [==============================] - 2s 363us/step - loss: 0.3485 - accuracy: 0.8567 - val_loss: 0.3782 - val_accuracy: 0.8482\n",
      "Epoch 87/100\n",
      "5359/5359 [==============================] - 2s 358us/step - loss: 0.3486 - accuracy: 0.8563 - val_loss: 0.3808 - val_accuracy: 0.8455\n",
      "Epoch 88/100\n",
      "5359/5359 [==============================] - 2s 369us/step - loss: 0.3484 - accuracy: 0.8576 - val_loss: 0.3775 - val_accuracy: 0.8485\n",
      "Epoch 89/100\n",
      "5359/5359 [==============================] - 2s 360us/step - loss: 0.3485 - accuracy: 0.8586 - val_loss: 0.3812 - val_accuracy: 0.8459\n",
      "Epoch 90/100\n",
      "5359/5359 [==============================] - 2s 363us/step - loss: 0.3490 - accuracy: 0.8576 - val_loss: 0.3790 - val_accuracy: 0.8478\n",
      "Epoch 91/100\n",
      "5359/5359 [==============================] - 2s 367us/step - loss: 0.3482 - accuracy: 0.8578 - val_loss: 0.3799 - val_accuracy: 0.8451\n",
      "Epoch 92/100\n",
      "5359/5359 [==============================] - 2s 373us/step - loss: 0.3487 - accuracy: 0.8578 - val_loss: 0.3786 - val_accuracy: 0.8478\n",
      "Epoch 93/100\n",
      "5359/5359 [==============================] - 2s 360us/step - loss: 0.3482 - accuracy: 0.8567 - val_loss: 0.3823 - val_accuracy: 0.8417\n",
      "Epoch 94/100\n",
      "5359/5359 [==============================] - 2s 360us/step - loss: 0.3492 - accuracy: 0.8550 - val_loss: 0.3791 - val_accuracy: 0.8478\n",
      "Epoch 95/100\n",
      "5359/5359 [==============================] - 2s 360us/step - loss: 0.3484 - accuracy: 0.8586 - val_loss: 0.3781 - val_accuracy: 0.8478\n",
      "Epoch 96/100\n",
      "5359/5359 [==============================] - 2s 373us/step - loss: 0.3488 - accuracy: 0.8580 - val_loss: 0.3807 - val_accuracy: 0.8448\n",
      "Epoch 97/100\n",
      "5359/5359 [==============================] - 2s 355us/step - loss: 0.3484 - accuracy: 0.8580 - val_loss: 0.3787 - val_accuracy: 0.8463\n",
      "Epoch 98/100\n",
      "5359/5359 [==============================] - 2s 359us/step - loss: 0.3485 - accuracy: 0.8582 - val_loss: 0.3780 - val_accuracy: 0.8474\n",
      "Epoch 99/100\n",
      "5359/5359 [==============================] - 2s 358us/step - loss: 0.3482 - accuracy: 0.8595 - val_loss: 0.3796 - val_accuracy: 0.8463\n",
      "Epoch 100/100\n",
      "5359/5359 [==============================] - 2s 362us/step - loss: 0.3487 - accuracy: 0.8569 - val_loss: 0.3791 - val_accuracy: 0.8459\n"
     ]
    }
   ],
   "source": [
    "#fitting the ann\n",
    "model_history=classifier.fit(x_train,y_train,validation_split=0.33,batch_size=10,nb_epoch=100)"
   ]
  },
  {
   "cell_type": "code",
   "execution_count": 66,
   "id": "f5511c8a",
   "metadata": {
    "ExecuteTime": {
     "end_time": "2021-05-09T08:55:06.071218Z",
     "start_time": "2021-05-09T08:55:06.057307Z"
    }
   },
   "outputs": [
    {
     "name": "stdout",
     "output_type": "stream",
     "text": [
      "dict_keys(['val_loss', 'val_accuracy', 'loss', 'accuracy'])\n"
     ]
    }
   ],
   "source": [
    "print(model_history.history.keys())"
   ]
  },
  {
   "cell_type": "code",
   "execution_count": 72,
   "id": "dac27eb5",
   "metadata": {
    "ExecuteTime": {
     "end_time": "2021-05-09T08:56:39.062805Z",
     "start_time": "2021-05-09T08:56:38.995379Z"
    }
   },
   "outputs": [],
   "source": [
    "# predicting values\n",
    "y_pred = classifier.predict(x_test)\n",
    "y_pred = y_pred>0.5"
   ]
  },
  {
   "cell_type": "code",
   "execution_count": 74,
   "id": "c2dada9b",
   "metadata": {
    "ExecuteTime": {
     "end_time": "2021-05-09T08:56:49.275138Z",
     "start_time": "2021-05-09T08:56:49.262897Z"
    }
   },
   "outputs": [
    {
     "data": {
      "text/plain": [
       "0.8555"
      ]
     },
     "execution_count": 74,
     "metadata": {},
     "output_type": "execute_result"
    }
   ],
   "source": [
    "#accuracy_score\n",
    "from sklearn.metrics import accuracy_score\n",
    "score = accuracy_score(y_pred,y_test)\n",
    "score\n"
   ]
  },
  {
   "cell_type": "code",
   "execution_count": 76,
   "id": "65751cfe",
   "metadata": {
    "ExecuteTime": {
     "end_time": "2021-05-09T08:57:30.583027Z",
     "start_time": "2021-05-09T08:57:30.557097Z"
    }
   },
   "outputs": [
    {
     "data": {
      "text/plain": [
       "array([[1517,  211],\n",
       "       [  78,  194]], dtype=int64)"
      ]
     },
     "execution_count": 76,
     "metadata": {},
     "output_type": "execute_result"
    }
   ],
   "source": [
    "#confusion matrix\n",
    "from sklearn.metrics import confusion_matrix\n",
    "cm = confusion_matrix(y_pred,y_test)\n",
    "cm"
   ]
  },
  {
   "cell_type": "code",
   "execution_count": null,
   "id": "90b01c3b",
   "metadata": {},
   "outputs": [],
   "source": []
  }
 ],
 "metadata": {
  "kernelspec": {
   "display_name": "Python 3",
   "language": "python",
   "name": "python3"
  },
  "language_info": {
   "codemirror_mode": {
    "name": "ipython",
    "version": 3
   },
   "file_extension": ".py",
   "mimetype": "text/x-python",
   "name": "python",
   "nbconvert_exporter": "python",
   "pygments_lexer": "ipython3",
   "version": "3.7.0"
  }
 },
 "nbformat": 4,
 "nbformat_minor": 5
}
